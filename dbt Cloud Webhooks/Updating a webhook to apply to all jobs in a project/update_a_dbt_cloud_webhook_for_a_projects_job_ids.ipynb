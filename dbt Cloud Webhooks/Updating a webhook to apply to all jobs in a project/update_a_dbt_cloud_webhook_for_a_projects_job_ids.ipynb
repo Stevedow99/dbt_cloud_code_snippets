{
 "cells": [
  {
   "cell_type": "markdown",
   "metadata": {},
   "source": [
    "## dbt Cloud API Example for Auto Updating Webhooks for to contain all jobs within a dbt Cloud Project (or environment within a project)\n",
    "- This can be done via scripting with the dbt Cloud APIs or VIA the [dbt Cloud Terraform Provider](https://registry.terraform.io/providers/dbt-labs/dbtcloud/latest)"
   ]
  },
  {
   "cell_type": "code",
   "execution_count": 1,
   "metadata": {},
   "outputs": [],
   "source": [
    "import requests\n",
    "from datetime import datetime\n",
    "import json"
   ]
  },
  {
   "cell_type": "code",
   "execution_count": 3,
   "metadata": {},
   "outputs": [],
   "source": [
    "# required inputs\n",
    "dbt_cloud_api_token = \"dbtc_12341241243124\"\n",
    "dbt_cloud_account_id = 12345\n",
    "dbt_cloud_project_id = 987654\n",
    "dbt_cloud_webhook_id = 'wsu_2n5GxuzXauxkEHsWdSbsyfr5S1e'\n",
    "\n",
    "# optional inputs, only use if you want to filter for only jobs within an environment in a given project\n",
    "# dbt_cloud_environment_id = 654321"
   ]
  },
  {
   "cell_type": "markdown",
   "metadata": {},
   "source": [
    "___"
   ]
  },
  {
   "cell_type": "markdown",
   "metadata": {},
   "source": [
    "#### __Step 1:__ Function to get all jobs within a given project (or project and environment)"
   ]
  },
  {
   "cell_type": "code",
   "execution_count": 7,
   "metadata": {},
   "outputs": [],
   "source": [
    "def get_dbt_cloud_job_ids(api_token, account_id, project_id, environment_id=None):\n",
    "    \"\"\"\n",
    "    Get all job IDs for a specified project in dbt Cloud, with an optional environment filter.\n",
    "\n",
    "    Parameters:\n",
    "        api_token (str): The API token for authenticating with dbt Cloud.\n",
    "        account_id (int): The account ID in dbt Cloud.\n",
    "        project_id (int): The project ID for which to fetch job IDs.\n",
    "        environment_id (int, optional): The environment ID to filter jobs. Defaults to None.\n",
    "\n",
    "    Returns:\n",
    "        list: A list of job IDs within the specified project and optional environment.\n",
    "    \"\"\"\n",
    "    url = f\"https://cloud.getdbt.com/api/v2/accounts/{account_id}/jobs/\"\n",
    "    headers = {\n",
    "        \"Authorization\": f\"Token {api_token}\"\n",
    "    }\n",
    "    \n",
    "    # Make the request to get all jobs within the account\n",
    "    response = requests.get(url, headers=headers)\n",
    "    \n",
    "    if response.status_code == 200:\n",
    "        jobs = response.json().get('data', [])\n",
    "        # Filter jobs by project_id and optionally by environment_id\n",
    "        job_ids = [\n",
    "            job['id'] for job in jobs \n",
    "            if job['project_id'] == project_id and \n",
    "               (environment_id is None or job['environment_id'] == environment_id)\n",
    "        ]\n",
    "        return job_ids\n",
    "    else:\n",
    "        print(\"Failed to retrieve jobs:\", response.status_code, response.text)\n",
    "        return []"
   ]
  },
  {
   "cell_type": "markdown",
   "metadata": {},
   "source": [
    "#### __Step 2:__ Function to update a given webhook to apply to all of the given jobs within a project"
   ]
  },
  {
   "cell_type": "code",
   "execution_count": 10,
   "metadata": {},
   "outputs": [],
   "source": [
    "def retrieve_and_update_webhook_subscription(api_token, account_id, webhook_id, updated_job_ids_for_webhook):\n",
    "    \"\"\"\n",
    "    Retrieve a dbt Cloud webhook subscription and update it with the retrieved payload using the v3 API.\n",
    "\n",
    "    Parameters:\n",
    "        api_token (str): The API token for authenticating with dbt Cloud.\n",
    "        account_id (int): The account ID in dbt Cloud.\n",
    "        webhook_id (int): The webhook subscription ID to retrieve and update.\n",
    "\n",
    "    Returns:\n",
    "        dict: The updated webhook subscription details if successful, else an error message.\n",
    "    \"\"\"\n",
    "    url = f\"https://cloud.getdbt.com/api/v3/accounts/{account_id}/webhooks/subscription/{webhook_id}\"\n",
    "    headers = {\n",
    "        \"Authorization\": f\"Bearer {api_token}\",\n",
    "        \"Content-Type\": \"application/json\"\n",
    "    }\n",
    "    \n",
    "    # Step 1: Retrieve the current webhook subscription details\n",
    "    response = requests.get(url, headers=headers)\n",
    "    \n",
    "    if response.status_code != 200:\n",
    "        print(\"Failed to retrieve webhook subscription:\", response.status_code, response.text)\n",
    "        return {\"error\": response.text}\n",
    "    \n",
    "    webhook_data = response.json().get('data', {})\n",
    "\n",
    "    # create the webhook payload with the new job ids\n",
    "    update_webhook_payload = {\n",
    "        \"id\": webhook_data['id'],\n",
    "        \"name\": webhook_data['name'],\n",
    "        \"event_types\": webhook_data['event_types'],\n",
    "        \"client_url\": webhook_data['client_url'],\n",
    "        \"active\": webhook_data['active'],\n",
    "        \"job_ids\": updated_job_ids_for_webhook\n",
    "\n",
    "    }\n",
    "    \n",
    "    # Step 2: Update the webhook subscription with the retrieved payload\n",
    "    update_response = requests.put(url, headers=headers, json=update_webhook_payload)\n",
    "    \n",
    "    if update_response.status_code == 200:\n",
    "        print(\"Webhook subscription updated successfully.\")\n",
    "        return update_response.json().get('data', {})\n",
    "    else:\n",
    "        print(\"Failed to update webhook subscription:\", update_response.status_code, update_response.text)\n",
    "        return {\"error\": update_response.text}"
   ]
  },
  {
   "cell_type": "markdown",
   "metadata": {},
   "source": [
    "#### __Step 3:__ Putting it all together -- getting all of the job ids within a given project (or project + environment) and updating the webhook to apply to all said jobs\n",
    "\n",
    "##### __Note:__ This operation is idempotent and can be applied over and over again and will only change if a new set of job ids is applied to it"
   ]
  },
  {
   "cell_type": "code",
   "execution_count": 11,
   "metadata": {},
   "outputs": [
    {
     "name": "stdout",
     "output_type": "stream",
     "text": [
      "The dbt Cloud Job IDs for the selected project are: [106102, 211981, 494432, 494574, 548096, 644841, 687105] \n",
      "Webhook subscription updated successfully.\n",
      "The dbt Cloud Webhook has been updated and now apply to the following Job IDs: ['106102', '211981', '494432', '494574', '548096', '644841', '687105']\n"
     ]
    }
   ],
   "source": [
    "# get the dbt Cloud job ids for a given project\n",
    "dbt_cloud_job_ids = get_dbt_cloud_job_ids(dbt_cloud_api_token, dbt_cloud_account_id, dbt_cloud_project_id)\n",
    "\n",
    "# logging the job ids\n",
    "print(f\"The dbt Cloud Job IDs for the selected project are: {dbt_cloud_job_ids} \")\n",
    "\n",
    "# updating the webhook to apply to all jobs from above\n",
    "updated_webhook = retrieve_and_update_webhook_subscription(dbt_cloud_api_token, dbt_cloud_account_id, dbt_cloud_webhook_id, dbt_cloud_job_ids)\n",
    "\n",
    "# logging the update has happened\n",
    "print(f\"The dbt Cloud Webhook has been updated and now apply to the following Job IDs: {updated_webhook['job_ids']}\")"
   ]
  },
  {
   "cell_type": "markdown",
   "metadata": {},
   "source": [
    "##### __Example if filtering for environment as well__"
   ]
  },
  {
   "cell_type": "code",
   "execution_count": 13,
   "metadata": {},
   "outputs": [
    {
     "name": "stdout",
     "output_type": "stream",
     "text": [
      "The dbt Cloud Job IDs for the selected project + environment are: [106102, 494432, 494574, 548096, 644841] \n",
      "Webhook subscription updated successfully.\n",
      "The dbt Cloud Webhook has been updated and now apply to the following Job IDs: ['106102', '494432', '494574', '548096', '644841']\n"
     ]
    }
   ],
   "source": [
    "# further filter down the job ids by providing an environment_id\n",
    "dbt_cloud_environment_id = 654321\n",
    "\n",
    "# get the dbt Cloud job ids for a given project + environment\n",
    "dbt_cloud_job_ids = get_dbt_cloud_job_ids(dbt_cloud_api_token, dbt_cloud_account_id, dbt_cloud_project_id, dbt_cloud_environment_id)\n",
    "\n",
    "# logging the job ids\n",
    "print(f\"The dbt Cloud Job IDs for the selected project + environment are: {dbt_cloud_job_ids} \")\n",
    "\n",
    "# updating the webhook to apply to all jobs from above\n",
    "updated_webhook = retrieve_and_update_webhook_subscription(dbt_cloud_api_token, dbt_cloud_account_id, dbt_cloud_webhook_id, dbt_cloud_job_ids)\n",
    "\n",
    "# logging the update has happened\n",
    "print(f\"The dbt Cloud Webhook has been updated and now apply to the following Job IDs: {updated_webhook['job_ids']}\")"
   ]
  },
  {
   "cell_type": "markdown",
   "metadata": {},
   "source": [
    "# END OF SCRIPT"
   ]
  }
 ],
 "metadata": {
  "kernelspec": {
   "display_name": "Python 3",
   "language": "python",
   "name": "python3"
  },
  "language_info": {
   "codemirror_mode": {
    "name": "ipython",
    "version": 3
   },
   "file_extension": ".py",
   "mimetype": "text/x-python",
   "name": "python",
   "nbconvert_exporter": "python",
   "pygments_lexer": "ipython3",
   "version": "3.12.4"
  }
 },
 "nbformat": 4,
 "nbformat_minor": 2
}
