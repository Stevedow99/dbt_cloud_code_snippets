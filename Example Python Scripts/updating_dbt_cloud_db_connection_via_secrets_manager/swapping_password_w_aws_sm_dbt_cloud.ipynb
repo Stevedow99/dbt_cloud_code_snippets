{
 "cells": [
  {
   "cell_type": "markdown",
   "metadata": {},
   "source": [
    "## dbt Cloud API Example for Getting Database Credentials in AWS Secrets Manager\n",
    "- This can be done via scripting with the dbt Cloud APIs or VIA the [dbt Cloud Terraform Provider](https://registry.terraform.io/providers/dbt-labs/dbtcloud/latest)\n",
    "\n",
    "### The following dbt Cloud APIs are used during this script\n",
    "- [List dbt Cloud Credential Metadata API Call](https://docs.getdbt.com/dbt-cloud/api-v3#/operations/List%20Credentials)\n",
    "- [Partial Update of dbt Cloud Credentials API Call](https://docs.getdbt.com/dbt-cloud/api-v3#/operations/Partial%20Update%20Credentials)\n",
    "\n",
    "\n",
    "___"
   ]
  },
  {
   "cell_type": "code",
   "execution_count": 31,
   "metadata": {},
   "outputs": [],
   "source": [
    "import boto3\n",
    "import json\n",
    "import requests\n",
    "from botocore.exceptions import ClientError\n",
    "import os"
   ]
  },
  {
   "cell_type": "markdown",
   "metadata": {},
   "source": [
    "___"
   ]
  },
  {
   "cell_type": "markdown",
   "metadata": {},
   "source": [
    "#### __Step 1:__ Function to get secrets from aws secrets manager"
   ]
  },
  {
   "cell_type": "code",
   "execution_count": 4,
   "metadata": {},
   "outputs": [],
   "source": [
    "def get_secret(secret_name, region_name):\n",
    "    \"\"\"\n",
    "    Retrieve a secret's value from AWS Secrets Manager.\n",
    "\n",
    "    :param secret_name: The name or ARN of the secret in Secrets Manager.\n",
    "    :param region_name: The AWS region where the secret is stored.\n",
    "    :return: The secret value as a string (or dictionary if it's JSON).\n",
    "    \"\"\"\n",
    "    # Create a Secrets Manager client\n",
    "    client = boto3.client('secretsmanager', region_name=region_name)\n",
    "\n",
    "    try:\n",
    "        # Fetch the secret value\n",
    "        get_secret_value_response = client.get_secret_value(SecretId=secret_name)\n",
    "    except ClientError as e:\n",
    "        print(f\"Error retrieving secret {secret_name}: {e}\")\n",
    "        return None\n",
    "    else:\n",
    "        # Check if secret is string or binary\n",
    "        if 'SecretString' in get_secret_value_response:\n",
    "            secret_string = get_secret_value_response['SecretString']\n",
    "            # If it's JSON, you can load it into a dictionary\n",
    "            try:\n",
    "                secret_dict = json.loads(secret_string)\n",
    "                return secret_dict\n",
    "            except json.JSONDecodeError:\n",
    "                # Not JSON, return the raw string\n",
    "                return secret_string\n",
    "        else:\n",
    "            # Secret is stored as bytes\n",
    "            secret_binary = get_secret_value_response['SecretBinary']\n",
    "            return secret_binary"
   ]
  },
  {
   "cell_type": "markdown",
   "metadata": {},
   "source": [
    "#### __Step 2:__ ___(OPTIONAL)___ Function to rotate a key in AWS Secrets manager\n",
    "- Note: This requires some additional set up in AWS secrets manager such as a lambda function to rotate the keys"
   ]
  },
  {
   "cell_type": "code",
   "execution_count": 8,
   "metadata": {},
   "outputs": [],
   "source": [
    "def rotate_secret(secret_id, region_name):\n",
    "    \"\"\"\n",
    "    Triggers an immediate rotation of a secret that already has rotation enabled.\n",
    "\n",
    "    :param secret_id: The name or ARN of the secret.\n",
    "    :param region_name: The AWS region (e.g., \"us-east-1\").\n",
    "    :return: Response from Secrets Manager's rotate_secret call.\n",
    "    \"\"\"\n",
    "    client = boto3.client('secretsmanager', region_name=region_name)\n",
    "\n",
    "    try:\n",
    "        response = client.rotate_secret(\n",
    "            SecretId=secret_id,\n",
    "            RotateImmediately=True  # Rotate now instead of waiting for the next scheduled rotation\n",
    "        )\n",
    "        print(\"Rotation triggered successfully!\")\n",
    "        return response\n",
    "    except ClientError as e:\n",
    "        print(f\"Error rotating secret {secret_id}: {e}\")\n",
    "        raise"
   ]
  },
  {
   "cell_type": "markdown",
   "metadata": {},
   "source": [
    "#### __Step 3:__ Function to list the credential ids of all credentials in dbt Cloud\n",
    "- Note: You can find your dbt Cloud Access URL under Account Settings >> Access URL (Provide it in this format: `cloud.getdbt.com` or `ez706.us1.dbt.com`)"
   ]
  },
  {
   "cell_type": "code",
   "execution_count": 63,
   "metadata": {},
   "outputs": [],
   "source": [
    "def list_dbt_cloud_credentials(account_id: int, project_id: int, dbt_cloud_token: str, dbt_cloud_access_url='cloud.getdbt.com') -> dict:\n",
    "    \"\"\"\n",
    "    Retrieve a list of credentials for a specific dbt Cloud account and project.\n",
    "\n",
    "    :param account_id: The dbt Cloud account ID.\n",
    "    :param project_id: The dbt Cloud project ID.\n",
    "    :param dbt_cloud_token: The API token for authentication (format: 'Token <TOKEN>').\n",
    "    :return: A dictionary containing the response from the dbt Cloud API.\n",
    "    :raises requests.exceptions.RequestException: If the request fails.\n",
    "    \"\"\"\n",
    "\n",
    "    url = (\n",
    "        f\"https://{dbt_cloud_access_url}/api/v3/\"\n",
    "        f\"accounts/{account_id}/projects/{project_id}/credentials/\"\n",
    "    )\n",
    "\n",
    "    # dbt Cloud requires the Authorization header\n",
    "    headers = {\n",
    "        \"Content-Type\": \"application/json\",\n",
    "        \"Authorization\": f\"Token {dbt_cloud_token}\"\n",
    "    }\n",
    "\n",
    "    try:\n",
    "        # Make the GET request\n",
    "        response = requests.get(url, headers=headers)\n",
    "\n",
    "        # Raise an HTTPError for bad responses (4xx or 5xx)\n",
    "        response.raise_for_status()\n",
    "\n",
    "        # Parse and return the JSON response\n",
    "        response_data = response.json()['data']\n",
    "    except requests.exceptions.RequestException as e:\n",
    "        print(f\"Failed to retrieve credentials. Error: {e}\")\n",
    "        raise\n",
    "\n",
    "    extracted_data = []\n",
    "    for item in response_data:\n",
    "        extracted_data.append({\n",
    "            \"credential_id\": item.get(\"id\"),\n",
    "            \"method\": item.get(\"method\"),\n",
    "            \"username\": item.get(\"username\"),\n",
    "            \"default_schema\": item.get(\"default_schema\")\n",
    "        })\n",
    "    return extracted_data"
   ]
  },
  {
   "cell_type": "markdown",
   "metadata": {},
   "source": [
    "#### __Step 4:__ Function to grab the credential metadata from dbt Cloud and update it with the new secret"
   ]
  },
  {
   "cell_type": "code",
   "execution_count": 64,
   "metadata": {},
   "outputs": [],
   "source": [
    "def update_dbt_cloud_database_connection_credentials(\n",
    "    account_id: int,\n",
    "    project_id: int,\n",
    "    credential_id: int,\n",
    "    dbt_cloud_token: str,\n",
    "    username: str,\n",
    "    password: str,\n",
    "    dbt_cloud_access_url='cloud.getdbt.com'):\n",
    "\n",
    "    url = (\n",
    "        f\"https://{dbt_cloud_access_url}/api/v3/\"\n",
    "        f\"accounts/{account_id}/projects/{project_id}/credentials/{credential_id}\"\n",
    "    )\n",
    "    \n",
    "    # dbt Cloud uses the \"Authorization: Token <YOUR_TOKEN>\" header\n",
    "    headers = {\n",
    "        \"Content-Type\": \"application/json\",\n",
    "        \"Authorization\": f\"Token {dbt_cloud_token}\"\n",
    "    }\n",
    "\n",
    "    body_payload = json.dumps({\"username\":username, \"password\": password})\n",
    "    \n",
    "    # Make the PATCH request\n",
    "    response = requests.patch(url, headers=headers, data=body_payload)\n",
    "    \n",
    "    # Raise an HTTPError if the status code indicates an error (4xx or 5xx)\n",
    "    response.raise_for_status()\n",
    "    \n",
    "    return response.json()"
   ]
  },
  {
   "cell_type": "markdown",
   "metadata": {},
   "source": [
    "#### __Step 5:__ Putting it all together -- Listing cred ids, getting the new secret from AWS Secrets manager and updating dbt Cloud"
   ]
  },
  {
   "cell_type": "markdown",
   "metadata": {},
   "source": [
    "___Listing all credential metadata___"
   ]
  },
  {
   "cell_type": "code",
   "execution_count": 65,
   "metadata": {},
   "outputs": [
    {
     "data": {
      "text/plain": [
       "[{'credential_id': 436894,\n",
       "  'method': 'password',\n",
       "  'username': 'steve_dowling_sa',\n",
       "  'default_schema': 'dbt_sdowling_rs_exp'},\n",
       " {'credential_id': 436896,\n",
       "  'method': 'password',\n",
       "  'username': 'example_redshift_service_account',\n",
       "  'default_schema': 'redshift_key_switch'}]"
      ]
     },
     "execution_count": 65,
     "metadata": {},
     "output_type": "execute_result"
    }
   ],
   "source": [
    "dbt_cloud_api_token = os.getenv(\"DBT_CLOUD_API_TOKEN\") \n",
    "# can set this locally via export DBT_CLOUD_API_TOKEN=\"<<api service account token>>\"\n",
    "dbt_cloud_account_id = 123456\n",
    "dbt_cloud_project_id = 654321\n",
    "\n",
    "# list all credentials for the dbt Cloud account and project\n",
    "dbt_cloud_credential_ids = list_dbt_cloud_credentials(dbt_cloud_account_id, dbt_cloud_project_id, dbt_cloud_api_token)\n",
    "\n",
    "# print the credential metadata\n",
    "dbt_cloud_credential_ids"
   ]
  },
  {
   "cell_type": "markdown",
   "metadata": {},
   "source": [
    "___Get secret from AWS secrets manager and update dbt Cloud Service account to use it for connection___"
   ]
  },
  {
   "cell_type": "code",
   "execution_count": 4,
   "metadata": {},
   "outputs": [
    {
     "name": "stdout",
     "output_type": "stream",
     "text": [
      "Successfully updated dbt cloud credential id 436896 with redshift username and password\n"
     ]
    }
   ],
   "source": [
    "redshift_secret_name = \"redshift-sales-cluster-service-account\"\n",
    "redshift_secret_region_name = \"us-east-2\"\n",
    "\n",
    "# get redshift connection info from AWS secrets manager\n",
    "aws_secrets_manager_redshift_conn_info = get_secret(my_secret_name, my_region_name)\n",
    "\n",
    "# set username from what we got from AWS secrets manager\n",
    "redshift_username = aws_secrets_manager_redshift_conn_info['username']\n",
    "\n",
    "# set password from what we got from AWS secrets manager\n",
    "redshift_password = aws_secrets_manager_redshift_conn_info['password']\n",
    "\n",
    "\n",
    "# set the dbt Cloud Production environment Redshift credential ID for the project 390745 (Pulled from last command)\n",
    "# I could do this programmatically, but for the sake of the example, I'm hardcoding it\n",
    "dbt_cloud_credential_id = 436896\n",
    "\n",
    "# update the dbt Cloud Production environment Redshift credentials for the project 390745\n",
    "updating_creds = update_dbt_cloud_database_connection_credentials(\n",
    "            account_id= dbt_cloud_account_id,\n",
    "            project_id=dbt_cloud_project_id,\n",
    "            credential_id=dbt_cloud_credential_id,\n",
    "            dbt_cloud_token=dbt_cloud_api_token,\n",
    "            username=redshift_username,\n",
    "            password=redshift_password\n",
    "        )\n",
    "\n",
    "print(\"Successfully updated dbt cloud credential id 436896 with redshift username and password\" if updating_creds['status']['code'] == 200 else \"failed to update dbt cloud credential id 436896 with redshift username and password\")"
   ]
  },
  {
   "cell_type": "markdown",
   "metadata": {},
   "source": [
    "# END OF SCRIPT"
   ]
  }
 ],
 "metadata": {
  "kernelspec": {
   "display_name": "Python 3",
   "language": "python",
   "name": "python3"
  },
  "language_info": {
   "codemirror_mode": {
    "name": "ipython",
    "version": 3
   },
   "file_extension": ".py",
   "mimetype": "text/x-python",
   "name": "python",
   "nbconvert_exporter": "python",
   "pygments_lexer": "ipython3",
   "version": "3.12.4"
  }
 },
 "nbformat": 4,
 "nbformat_minor": 2
}
