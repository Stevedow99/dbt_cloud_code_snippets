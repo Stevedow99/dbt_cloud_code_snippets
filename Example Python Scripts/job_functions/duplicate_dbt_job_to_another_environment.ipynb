{
 "cells": [
  {
   "cell_type": "markdown",
   "id": "c35751cf-cbc1-4271-8f73-b10ee8055daa",
   "metadata": {},
   "source": [
    "## Import packages needed for all of these API Calls"
   ]
  },
  {
   "cell_type": "code",
   "execution_count": 1,
   "id": "a9089ec1-751d-444d-89c6-29162123de43",
   "metadata": {},
   "outputs": [],
   "source": [
    "import requests\n",
    "import math\n",
    "import pprint\n",
    "import json"
   ]
  },
  {
   "cell_type": "markdown",
   "id": "5f45fc09-987c-4e65-93e6-e4ed3a50ac29",
   "metadata": {},
   "source": [
    "# Creating a function to duplicate a job from one environment to another "
   ]
  },
  {
   "cell_type": "code",
   "execution_count": 9,
   "id": "aff35cb9-fc2b-4f15-aefe-7a21b30514dc",
   "metadata": {},
   "outputs": [],
   "source": [
    "import requests\n",
    "import json\n",
    "\n",
    "# Creating a function to pull back job details for a given dbt Cloud job\n",
    "def get_dbt_job_details(account_id, job_id, api_key):\n",
    "    \n",
    "    # Headers for authentication\n",
    "    headers = {\n",
    "        'Authorization': f'Token {api_key}',\n",
    "        'Content-Type': 'application/json'\n",
    "    }\n",
    "    \n",
    "    # get job endpoint setup\n",
    "    get_job_url = f\"https://cloud.getdbt.com/api/v2/accounts/{account_id}/jobs/{job_id}/\"\n",
    "    \n",
    "    # HTTP GET request\n",
    "    get_job_response = requests.get(get_job_url, headers=headers)\n",
    "    \n",
    "    # Checking the response status code\n",
    "    if get_job_response.status_code == 200:\n",
    "        return get_job_response.json()['data']\n",
    "    else:\n",
    "        return {'error': 'Failed to fetch job details', 'status_code': response.status_code, 'details': response.text}\n",
    "\n",
    "\n",
    "# Creating a function to create a dbt cloud job\n",
    "def create_dbt_job(account_id, api_key, job_data):\n",
    "    \n",
    "    # URL for creating a job\n",
    "    url = f\"https://cloud.getdbt.com/api/v2/accounts/{account_id}/jobs/\"\n",
    "\n",
    "    # Headers including the authorization token\n",
    "    headers = {\n",
    "        \"Authorization\": f\"Token {api_key}\",\n",
    "        \"Content-Type\": \"application/json\"\n",
    "    }\n",
    "\n",
    "    # Make the POST request to create a new job\n",
    "    response = requests.post(url, headers=headers, data=json.dumps(job_data))\n",
    "\n",
    "    # Check if the request was successful\n",
    "    if response.status_code == 201:\n",
    "        return response.json()  # Return the JSON response from dbt Cloud\n",
    "    else:\n",
    "        # Return a JSON object with error information\n",
    "        return {\n",
    "            \"error\": \"Failed to create job\",\n",
    "            \"status_code\": response.status_code,\n",
    "            \"message\": response.text,\n",
    "            \"full response\": response\n",
    "        }\n",
    "\n",
    "# defining a function to duplicate a job from one dbt Cloud environment to another\n",
    "def duplicate_dbt_job_to_another_environment(account_id, api_key, id_of_job_to_duplicate, id_of_environment_to_duplicate_job_in, duplicated_job_name=None):\n",
    "\n",
    "    # get details of the existing job\n",
    "    existing_job_details = get_dbt_job_details(account_id, id_of_job_to_duplicate, api_key)\n",
    "\n",
    "    # update the current job information\n",
    "    existing_job_details['environment_id'] = id_of_environment_to_duplicate_job_in\n",
    "    existing_job_details['id'] = None\n",
    "\n",
    "    # update the job name if needed\n",
    "    if duplicated_job_name is not None:\n",
    "        existing_job_details['name'] = duplicated_job_name\n",
    "\n",
    "    # remove any unneeded fields\n",
    "    data_points_to_remove = ['created_at', 'updated_at', 'deactivated', 'run_failure_count', 'cron_humanized', 'next_run', 'next_run_humanized', 'raw_dbt_version', 'is_deferrable']\n",
    "    for key in data_points_to_remove:\n",
    "        existing_job_details.pop(key, None) \n",
    "\n",
    "    # create the duplicated job in the new environment\n",
    "    new_job_details = create_dbt_job(account_id, api_key, existing_job_details)\n",
    "\n",
    "    # return the new job details\n",
    "    return new_job_details"
   ]
  },
  {
   "cell_type": "code",
   "execution_count": 10,
   "id": "0687030e-5203-43e3-9435-9c4b3b7fda08",
   "metadata": {},
   "outputs": [],
   "source": [
    "# Example usage\n",
    "api_key = '<< dbt cloud token goes here >>'\n",
    "account_id = 12345  # Replace with your account ID\n",
    "id_of_job_to_duplicate = 456456\n",
    "id_of_environment_to_duplicate_job_in = 678910\n",
    "\n",
    "duplicated_job_info = duplicate_dbt_job_to_another_environment(account_id, \n",
    "                                                               api_key, \n",
    "                                                               id_of_job_to_duplicate, \n",
    "                                                               id_of_environment_to_duplicate_job_in, \n",
    "                                                               duplicated_job_name = 'Airport Data Refresh - QA')"
   ]
  },
  {
   "cell_type": "code",
   "execution_count": null,
   "id": "7b8135d7-e63a-4c7c-8f1b-ab5fe83b0cd9",
   "metadata": {},
   "outputs": [],
   "source": [
    "# log duplicated job info\n",
    "pprint.pp(duplicated_job_info)"
   ]
  },
  {
   "cell_type": "markdown",
   "id": "ac82b40b-fd7d-4717-8800-2808ac9b5fb8",
   "metadata": {},
   "source": [
    "# END OF SCRIPT"
   ]
  }
 ],
 "metadata": {
  "kernelspec": {
   "display_name": "Python 3 (ipykernel)",
   "language": "python",
   "name": "python3"
  },
  "language_info": {
   "codemirror_mode": {
    "name": "ipython",
    "version": 3
   },
   "file_extension": ".py",
   "mimetype": "text/x-python",
   "name": "python",
   "nbconvert_exporter": "python",
   "pygments_lexer": "ipython3",
   "version": "3.11.6"
  }
 },
 "nbformat": 4,
 "nbformat_minor": 5
}
