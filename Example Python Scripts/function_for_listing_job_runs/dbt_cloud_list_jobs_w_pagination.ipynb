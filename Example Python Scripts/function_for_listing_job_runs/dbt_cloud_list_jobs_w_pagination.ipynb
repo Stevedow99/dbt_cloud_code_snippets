{
 "cells": [
  {
   "cell_type": "markdown",
   "metadata": {},
   "source": [
    "## dbt Cloud API Example for listing runs for a given job (with _pagination_)\n",
    "- The pagination allows for returning more than 100 results in proper order\n"
   ]
  },
  {
   "cell_type": "markdown",
   "metadata": {},
   "source": [
    "___"
   ]
  },
  {
   "cell_type": "markdown",
   "metadata": {},
   "source": [
    "### Step One: Important dependencies "
   ]
  },
  {
   "cell_type": "code",
   "execution_count": 1,
   "metadata": {},
   "outputs": [],
   "source": [
    "import requests\n",
    "from datetime import datetime\n",
    "import json"
   ]
  },
  {
   "cell_type": "markdown",
   "metadata": {},
   "source": [
    "### Step Two: Define account and job information"
   ]
  },
  {
   "cell_type": "code",
   "execution_count": null,
   "metadata": {},
   "outputs": [],
   "source": [
    "# dbt Cloud Account Information\n",
    "dbt_cloud_api_token = \"dbtc_12343547457456745\"\n",
    "dbt_cloud_account_id = 12345\n",
    "\n",
    "# Set up the headers for authentication\n",
    "api_headers = {\n",
    "    'Authorization': f'Token {dbt_cloud_api_token}',\n",
    "    'Content-Type': 'application/json'\n",
    "}\n",
    "\n",
    "# dbt Cloud Job Information\n",
    "dbt_cloud_job_id = 106102"
   ]
  },
  {
   "cell_type": "markdown",
   "metadata": {},
   "source": [
    "### Step Three: Build function to call dbt Cloud API and get runs for a job using pagination"
   ]
  },
  {
   "cell_type": "code",
   "execution_count": 38,
   "metadata": {},
   "outputs": [],
   "source": [
    "def list_dbt_cloud_runs_for_a_job(api_token, account_id, job_id, max_runs=100):\n",
    "    \"\"\"\n",
    "    List runs from the dbt Cloud API with pagination.\n",
    "    \n",
    "    Parameters:\n",
    "    - api_token (str): Your dbt Cloud API token.\n",
    "    - account_id (int): The account ID for your dbt Cloud project.\n",
    "    - job_id (int): The job ID to list runs for.\n",
    "    - max_runs (int, optional): Maximum number of runs to retrieve (default: 100).\n",
    "    \n",
    "    Returns:\n",
    "    - list: A list of runs for the specified job ID.\n",
    "    \"\"\"\n",
    "    \n",
    "    url = f\"https://cloud.getdbt.com/api/v2/accounts/{account_id}/runs/\"\n",
    "    headers = {\n",
    "        \"Authorization\": f\"Token {api_token}\"\n",
    "    }\n",
    "    runs = []\n",
    "    offset = 0\n",
    "    limit = 100  # dbt Cloud's maximum limit per request\n",
    "    \n",
    "    while len(runs) < max_runs:\n",
    "        params = {\n",
    "            \"job_definition_id\": job_id,\n",
    "            \"limit\": limit,\n",
    "            \"offset\": offset,\n",
    "            \"order_by\": \"-id\"\n",
    "        }\n",
    "        \n",
    "        response = requests.get(url, headers=headers, params=params)\n",
    "        \n",
    "        if response.status_code != 200:\n",
    "            print(f\"Failed to retrieve runs: {response.status_code}, {response.text}\")\n",
    "            break\n",
    "        \n",
    "        data = response.json()\n",
    "        batch_runs = data.get(\"data\", [])\n",
    "        runs.extend(batch_runs)\n",
    "        \n",
    "        # Check if we have reached the last page\n",
    "        pagination = data.get(\"extra\", {}).get(\"pagination\", {})\n",
    "        if len(batch_runs) < limit or len(runs) >= max_runs or pagination.get(\"count\", 0) < limit:\n",
    "            break\n",
    "        \n",
    "        # Update offset to fetch the next page\n",
    "        offset += limit\n",
    "    \n",
    "    # Trim the runs list to the specified max_runs\n",
    "    return runs[:max_runs]"
   ]
  },
  {
   "cell_type": "code",
   "execution_count": null,
   "metadata": {},
   "outputs": [],
   "source": [
    "# The way this API call works is we get job runs newest to oldest, so if you have 200 total runs and you pull 125 it will get the 125 most recent runs\n",
    "last_125_job_runs = list_dbt_cloud_runs_for_a_job(dbt_cloud_api_token, dbt_cloud_account_id, dbt_cloud_job_id, max_runs=125)\n",
    "print(last_125_job_runs)\n"
   ]
  },
  {
   "cell_type": "markdown",
   "metadata": {},
   "source": [
    "___\n",
    "\n",
    "# END OF SCRIPT\n",
    "\n",
    "___"
   ]
  }
 ],
 "metadata": {
  "kernelspec": {
   "display_name": "Python 3",
   "language": "python",
   "name": "python3"
  },
  "language_info": {
   "codemirror_mode": {
    "name": "ipython",
    "version": 3
   },
   "file_extension": ".py",
   "mimetype": "text/x-python",
   "name": "python",
   "nbconvert_exporter": "python",
   "pygments_lexer": "ipython3",
   "version": "3.12.4"
  }
 },
 "nbformat": 4,
 "nbformat_minor": 2
}
