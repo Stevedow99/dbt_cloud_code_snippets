{
 "cells": [
  {
   "cell_type": "markdown",
   "metadata": {},
   "source": [
    "# Python Script to get number of commits by user by month from and Azure DevOps Repo\n",
    "\n",
    "- This is a good script for pulling back commit information to see how activity has increased over time on a repo"
   ]
  },
  {
   "cell_type": "markdown",
   "metadata": {},
   "source": [
    "___"
   ]
  },
  {
   "cell_type": "markdown",
   "metadata": {},
   "source": [
    "### Step One: Import Dependencies "
   ]
  },
  {
   "cell_type": "code",
   "execution_count": 28,
   "metadata": {},
   "outputs": [],
   "source": [
    "import requests\n",
    "import pandas as pd\n",
    "from datetime import datetime\n",
    "from collections import defaultdict\n",
    "import base64"
   ]
  },
  {
   "cell_type": "markdown",
   "metadata": {},
   "source": [
    "### Step Two: Create Functions"
   ]
  },
  {
   "cell_type": "code",
   "execution_count": 46,
   "metadata": {},
   "outputs": [],
   "source": [
    "# function to get ADO commits\n",
    "def get_ado_commits(organization, project, repo_id, ado_pat):\n",
    "\n",
    "    # encode pat\n",
    "    pat_encoded = base64.b64encode(f\":{ado_pat}\".encode()).decode()\n",
    "\n",
    "    # define headers\n",
    "    headers = {\n",
    "        'Content-Type': 'application/json',\n",
    "        'Authorization': f'Basic {pat_encoded}'\n",
    "        }\n",
    "\n",
    "\n",
    "    url = f'https://dev.azure.com/{organization}/{project}/_apis/git/repositories/{repo_id}/commits?api-version=7.0'\n",
    "    response = requests.get(url, headers=headers)\n",
    "    response.raise_for_status()\n",
    "    return response.json()['value']\n",
    "\n",
    "# Function to parse datetime\n",
    "def parse_datetime(date_str):\n",
    "    for fmt in ('%Y-%m-%dT%H:%M:%S.%fZ', '%Y-%m-%dT%H:%M:%SZ'):\n",
    "        try:\n",
    "            return datetime.strptime(date_str, fmt)\n",
    "        except ValueError:\n",
    "            pass\n",
    "    raise ValueError(f\"no valid date format found for {date_str}\")\n",
    "\n",
    "# function to process commit and output dataframe\n",
    "def process_commit_to_df(commits_data, repo_id):\n",
    "\n",
    "    # process commits to count by user by month\n",
    "    commit_counts = defaultdict(lambda: defaultdict(int))\n",
    "\n",
    "    for commit in commits_data:\n",
    "        author = commit['author']['name']\n",
    "        commit_date = parse_datetime(commit['author']['date'])\n",
    "        month = commit_date.strftime('%Y-%m')\n",
    "        commit_counts[author][month] += 1\n",
    "\n",
    "    # Convert to a DataFrame for easier manipulation\n",
    "    data = []\n",
    "\n",
    "    for author, months in commit_counts.items():\n",
    "        for month, count in months.items():\n",
    "            data.append({'repo_name':repo_id, 'commiter_name': author, 'commit_month': month, 'commit_count_for_month': count})\n",
    "\n",
    "    commit_df = pd.DataFrame(data)\n",
    "\n",
    "    return commit_df"
   ]
  },
  {
   "cell_type": "markdown",
   "metadata": {},
   "source": [
    "### Step Three: Define your Azure DevOps organization and project"
   ]
  },
  {
   "cell_type": "code",
   "execution_count": 53,
   "metadata": {},
   "outputs": [],
   "source": [
    "ado_organization = \"ado_organization_name\"\n",
    "ado_project = \"ado_project\"\n",
    "ado_repo_id = \"ado_repo_name\"  # You can use the repository name or ID"
   ]
  },
  {
   "cell_type": "markdown",
   "metadata": {},
   "source": [
    "### Step Four: Set your ADO PAT\n",
    "- For info on creating an ADO PAT, go [here](https://learn.microsoft.com/en-us/azure/devops/organizations/accounts/use-personal-access-tokens-to-authenticate?view=azure-devops&tabs=Windows)"
   ]
  },
  {
   "cell_type": "code",
   "execution_count": 52,
   "metadata": {},
   "outputs": [],
   "source": [
    "ado_pat = \"your_ado_pat\""
   ]
  },
  {
   "cell_type": "markdown",
   "metadata": {},
   "source": [
    "### Step Five: Run Everything"
   ]
  },
  {
   "cell_type": "code",
   "execution_count": 47,
   "metadata": {},
   "outputs": [],
   "source": [
    "# get ADO commits\n",
    "ado_commits = get_ado_commits(ado_organization, ado_project, ado_repo_id, ado_pat)\n",
    "\n",
    "# convert into pandas df\n",
    "commits_df = process_commit_to_df(ado_commits, ado_repo_id)"
   ]
  },
  {
   "cell_type": "markdown",
   "metadata": {},
   "source": [
    "### Analyze Results"
   ]
  },
  {
   "cell_type": "code",
   "execution_count": 48,
   "metadata": {},
   "outputs": [
    {
     "data": {
      "text/html": [
       "<div>\n",
       "<style scoped>\n",
       "    .dataframe tbody tr th:only-of-type {\n",
       "        vertical-align: middle;\n",
       "    }\n",
       "\n",
       "    .dataframe tbody tr th {\n",
       "        vertical-align: top;\n",
       "    }\n",
       "\n",
       "    .dataframe thead th {\n",
       "        text-align: right;\n",
       "    }\n",
       "</style>\n",
       "<table border=\"1\" class=\"dataframe\">\n",
       "  <thead>\n",
       "    <tr style=\"text-align: right;\">\n",
       "      <th></th>\n",
       "      <th>repo_name</th>\n",
       "      <th>commiter_name</th>\n",
       "      <th>commit_month</th>\n",
       "      <th>commit_count_for_month</th>\n",
       "    </tr>\n",
       "  </thead>\n",
       "  <tbody>\n",
       "    <tr>\n",
       "      <th>0</th>\n",
       "      <td>sample_dbt_project</td>\n",
       "      <td>Steve Dowling</td>\n",
       "      <td>2024-08</td>\n",
       "      <td>1</td>\n",
       "    </tr>\n",
       "    <tr>\n",
       "      <th>1</th>\n",
       "      <td>sample_dbt_project</td>\n",
       "      <td>Steve Dowling</td>\n",
       "      <td>2022-08</td>\n",
       "      <td>52</td>\n",
       "    </tr>\n",
       "  </tbody>\n",
       "</table>\n",
       "</div>"
      ],
      "text/plain": [
       "            repo_name  commiter_name commit_month  commit_count_for_month\n",
       "0  sample_dbt_project  Steve Dowling      2024-08                       1\n",
       "1  sample_dbt_project  Steve Dowling      2022-08                      52"
      ]
     },
     "metadata": {},
     "output_type": "display_data"
    }
   ],
   "source": [
    "# display results as a Data Frame\n",
    "display(commits_df)"
   ]
  },
  {
   "cell_type": "code",
   "execution_count": 49,
   "metadata": {},
   "outputs": [],
   "source": [
    "# export to csv\n",
    "commits_df.to_csv('./commit_counts_by_user_by_month.csv', index=False)"
   ]
  },
  {
   "cell_type": "code",
   "execution_count": 51,
   "metadata": {},
   "outputs": [
    {
     "name": "stderr",
     "output_type": "stream",
     "text": [
      "Matplotlib is building the font cache; this may take a moment.\n"
     ]
    },
    {
     "data": {
      "image/png": "[encoded data removed]",
      "text/plain": [
       "<Figure size 1000x600 with 1 Axes>"
      ]
     },
     "metadata": {},
     "output_type": "display_data"
    }
   ],
   "source": [
    "# [Overkill] display results as a Chart\n",
    "import matplotlib.pyplot as plt\n",
    "\n",
    "# Pivot the data for better visualization\n",
    "pivot_df = commits_df.pivot(index='commit_month', columns='commiter_name', values='commit_count_for_month').fillna(0)\n",
    "\n",
    "# Plotting\n",
    "pivot_df.plot(kind='bar', figsize=(10, 6))\n",
    "\n",
    "# Adding title and labels\n",
    "plt.title('Commit Count by Month')\n",
    "plt.xlabel('Month')\n",
    "plt.ylabel('Commit Count')\n",
    "plt.xticks(rotation=45)\n",
    "\n",
    "# Show the plot\n",
    "plt.tight_layout()\n",
    "plt.show()"
   ]
  },
  {
   "cell_type": "markdown",
   "metadata": {},
   "source": [
    "___\n",
    "\n",
    "# END OF SCRIPT\n",
    "\n",
    "___"
   ]
  }
 ],
 "metadata": {
  "kernelspec": {
   "display_name": "Python 3",
   "language": "python",
   "name": "python3"
  },
  "language_info": {
   "codemirror_mode": {
    "name": "ipython",
    "version": 3
   },
   "file_extension": ".py",
   "mimetype": "text/x-python",
   "name": "python",
   "nbconvert_exporter": "python",
   "pygments_lexer": "ipython3",
   "version": "3.12.4"
  }
 },
 "nbformat": 4,
 "nbformat_minor": 2
}
