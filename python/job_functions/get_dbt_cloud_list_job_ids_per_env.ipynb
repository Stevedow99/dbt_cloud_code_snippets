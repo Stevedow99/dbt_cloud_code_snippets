{
 "cells": [
  {
   "cell_type": "markdown",
   "id": "c35751cf-cbc1-4271-8f73-b10ee8055daa",
   "metadata": {},
   "source": [
    "## Import packages needed for all of these API Calls"
   ]
  },
  {
   "cell_type": "code",
   "execution_count": 1,
   "id": "a9089ec1-751d-444d-89c6-29162123de43",
   "metadata": {},
   "outputs": [],
   "source": [
    "import requests\n",
    "import math\n",
    "import pprint\n",
    "import json"
   ]
  },
  {
   "cell_type": "markdown",
   "id": "30d9a5c1-1a4a-40d9-8e45-932b12d2050a",
   "metadata": {},
   "source": [
    "# Creating a function to list all jobs for a given dbt Cloud environment"
   ]
  },
  {
   "cell_type": "markdown",
   "id": "166ee340-3fa4-4797-80dd-62df745b07a3",
   "metadata": {},
   "source": [
    "### Creating the function"
   ]
  },
  {
   "cell_type": "code",
   "execution_count": 2,
   "id": "a11a8b03-9532-40da-b8e8-376e4ce0291a",
   "metadata": {},
   "outputs": [],
   "source": [
    "def get_dbt_cloud_list_job_ids_per_env(api_key, account_id, environment_id):\n",
    "    \n",
    "    # define headers\n",
    "    headers = {\n",
    "        \"Authorization\": f\"Token {api_key}\",\n",
    "        \"Content-Type\": \"application/json\",\n",
    "    }\n",
    "    \n",
    "    # set base url for dbt Cloud\n",
    "    base_url = f\"https://cloud.getdbt.com/api/v2/accounts/{account_id}/jobs\"\n",
    "\n",
    "    # set the url that will get called\n",
    "    query_params = {\n",
    "     'environment_id': environment_id,\n",
    "     'limit': 100,\n",
    "     'offset': 0\n",
    "    }\n",
    "    \n",
    "    # get the response\n",
    "    response = requests.get(base_url, headers=headers, params=query_params).json()\n",
    "\n",
    "    # get the total number of jobs for the env\n",
    "    total_jobs = response[\"extra\"][\"pagination\"][\"total_count\"]\n",
    "    call_offset = response[\"extra\"][\"filters\"][\"offset\"]\n",
    "    \n",
    "    # parse response json\n",
    "    response_json = response[\"data\"]\n",
    "\n",
    "    # creating a list for all jobs\n",
    "    all_jobs = []\n",
    "\n",
    "    # append data to the list\n",
    "    all_jobs.append(response_json)\n",
    "\n",
    "    # we make sure that we get all jobs is there are greater than 100 jobs for the given env\n",
    "    if len(response_json) > 0 and total_jobs > 100:\n",
    "\n",
    "        while True:\n",
    "\n",
    "            # Increment offset by limit for the next page\n",
    "            call_offset += 100\n",
    "\n",
    "            # Break the loop if we have collected all items\n",
    "            if call_offset >= total_jobs:\n",
    "                break\n",
    "\n",
    "            # set it as a query param\n",
    "            query_params['offset'] = call_offset\n",
    "\n",
    "            # make the api call\n",
    "            response = requests.get(base_url, headers=headers, params=query_params).json()\n",
    "            call_offset = response[\"extra\"][\"filters\"][\"offset\"]\n",
    "            response_json = response[\"data\"]\n",
    "\n",
    "            # append the additonal data to the list\n",
    "            all_jobs.append(response_json)\n",
    "\n",
    "    # logging that pagination isn't needed if 100 jobs or less\n",
    "    elif len(response_json) > 0 and total_jobs <= 100:\n",
    "\n",
    "        # logging that pagination is not needed\n",
    "        print(\"No need to do pagination, less than 101 jobs\")\n",
    "        \n",
    "    else:\n",
    "        # raise error that the job were not found\n",
    "        raise ValueError(f\"There was an error getting job ids or there are no jobs created for the environment_id {environment_id}\")\n",
    "\n",
    "    # flatten the jobs list \n",
    "    flattened_jobs_list = [item for sublist in all_jobs for item in sublist]\n",
    "\n",
    "    # simplify the data returned\n",
    "    simplified_jobs = [\n",
    "                            {'job_name': job['name'], 'job_id': job['id'], 'environment_id': job['environment_id']}\n",
    "                            for job in flattened_jobs_list\n",
    "                      ]\n",
    "\n",
    "    # return list of jobs\n",
    "    return simplified_jobs"
   ]
  },
  {
   "cell_type": "markdown",
   "id": "8ea14a3e-0a35-4a97-b7d1-39381afe0f23",
   "metadata": {},
   "source": [
    "### Using the function"
   ]
  },
  {
   "cell_type": "code",
   "execution_count": 3,
   "id": "c44d7b18-301a-4100-8448-e63d38693694",
   "metadata": {},
   "outputs": [
    {
     "name": "stdout",
     "output_type": "stream",
     "text": [
      "No need to do pagination, less than 101 jobs\n",
      "[{'job_name': 'Weekly Refresh Job', 'job_id': 106102, 'environment_id': 105436},\n",
      " {'job_name': 'Airport Data Refresh',\n",
      "  'job_id': 494432,\n",
      "  'environment_id': 105436},\n",
      " {'job_name': 'Customer Reporting Job',\n",
      "  'job_id': 494574,\n",
      "  'environment_id': 105436},\n",
      " {'job_name': 'Parameterized Customer Job',\n",
      "  'job_id': 533070,\n",
      "  'environment_id': 105436},\n",
      " {'job_name': 'Build a Semantic Layer Export ',\n",
      "  'job_id': 548096,\n",
      "  'environment_id': 105436}]\n"
     ]
    }
   ],
   "source": [
    "# Example usage:\n",
    "api_key = '<< dbt cloud token goes here >>'\n",
    "account_id = 12345  # Replace with your account ID\n",
    "environment_id = 678910\n",
    "\n",
    "# use the function\n",
    "job_ids_for_env = get_dbt_cloud_list_job_ids_per_env(api_key, account_id, environment_id)\n",
    "\n",
    "# print them out for example\n",
    "pprint.pp(job_ids_for_env)"
   ]
  },
  {
   "cell_type": "markdown",
   "id": "5f45fc09-987c-4e65-93e6-e4ed3a50ac29",
   "metadata": {},
   "source": [
    "# END OF SCRIPT"
   ]
  }
 ],
 "metadata": {
  "kernelspec": {
   "display_name": "Python 3 (ipykernel)",
   "language": "python",
   "name": "python3"
  },
  "language_info": {
   "codemirror_mode": {
    "name": "ipython",
    "version": 3
   },
   "file_extension": ".py",
   "mimetype": "text/x-python",
   "name": "python",
   "nbconvert_exporter": "python",
   "pygments_lexer": "ipython3",
   "version": "3.11.6"
  }
 },
 "nbformat": 4,
 "nbformat_minor": 5
}
