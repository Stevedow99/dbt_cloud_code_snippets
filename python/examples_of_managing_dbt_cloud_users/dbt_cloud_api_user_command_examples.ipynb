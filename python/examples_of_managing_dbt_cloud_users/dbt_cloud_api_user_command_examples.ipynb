{
 "cells": [
  {
   "cell_type": "markdown",
   "metadata": {},
   "source": [
    "## dbt Cloud API Example for Updating Users\n",
    "- As a note, I would recommend doing these command vis the [dbt Cloud Terraform Provider](https://registry.terraform.io/providers/dbt-labs/dbtcloud/latest) instead of scripting with the APIs but provided scripting examples below"
   ]
  },
  {
   "cell_type": "code",
   "execution_count": 2,
   "metadata": {},
   "outputs": [],
   "source": [
    "import requests\n",
    "from datetime import datetime\n",
    "import json\n",
    "import pprint"
   ]
  },
  {
   "cell_type": "code",
   "execution_count": null,
   "metadata": {},
   "outputs": [],
   "source": [
    "dbt_cloud_api_token = \"dbtc_1234587237823782378237823\" # Update to your token\n",
    "dbt_cloud_account_id = 123456 # Update to account id\n",
    "# Set up the headers for authentication\n",
    "api_headers = {\n",
    "    'Authorization': f'Token {dbt_cloud_api_token}',\n",
    "    'Content-Type': 'application/json'\n",
    "}"
   ]
  },
  {
   "cell_type": "markdown",
   "metadata": {},
   "source": [
    "___"
   ]
  },
  {
   "cell_type": "markdown",
   "metadata": {},
   "source": [
    "### Example 1: Removing a user from a dbt Cloud Group"
   ]
  },
  {
   "cell_type": "code",
   "execution_count": null,
   "metadata": {},
   "outputs": [],
   "source": [
    "dbt_cloud_user_id = 21833 # Update to a given users ID"
   ]
  },
  {
   "cell_type": "markdown",
   "metadata": {},
   "source": [
    "#### First i'll list the groups that the user is in"
   ]
  },
  {
   "cell_type": "code",
   "execution_count": 35,
   "metadata": {},
   "outputs": [
    {
     "name": "stdout",
     "output_type": "stream",
     "text": [
      "Groups that the user is in within the dbt Cloud Account:\n",
      "ID: 782548, Name: Developers\n",
      "ID: 782545, Name: Account Admins\n"
     ]
    }
   ],
   "source": [
    "# Define the URL to get the groups that the user is in\n",
    "url = f'https://cloud.getdbt.com/api/v2/accounts/{dbt_cloud_account_id}/users/{dbt_cloud_user_id}'\n",
    "\n",
    "# Make the GET request to fetch the groups associated with the user\n",
    "response = requests.get(url, headers=api_headers)\n",
    "\n",
    "# Check the response status\n",
    "if response.status_code == 200:\n",
    "    dbt_cloud_user_info = response.json()\n",
    "else:\n",
    "    print(f'Failed to fetch groups for user {dbt_cloud_user_id}. Status code: {response.status_code}')\n",
    "\n",
    "# Extract the groups from the \"permissions\" section\n",
    "groups = []\n",
    "for permission in dbt_cloud_user_info['data'].get('permissions', []):\n",
    "    if permission.get('account_id') == dbt_cloud_account_id:\n",
    "        groups.extend(permission.get('groups', []))\n",
    "# Print out the group IDs and names\n",
    "if groups:\n",
    "    print(\"Groups that the user is in within the dbt Cloud Account:\")\n",
    "    for group in groups:\n",
    "        print(f\"ID: {group['id']}, Name: {group['name']}\")\n",
    "else:\n",
    "    print(\"No groups found for the user.\")"
   ]
  },
  {
   "cell_type": "markdown",
   "metadata": {},
   "source": [
    "#### Second i'll update the users groups\n",
    "- You'll notice in this API call i'm removing this user from group `782545` which is named `Account Admins` \n",
    "- I remove this user by assigning them only to the groups that I want them to be in, which in this case is group `782548` which is named `Developers`\n",
    "  - By only assigning them to the groups that I want them to be in, it will remove them from all other groups"
   ]
  },
  {
   "cell_type": "code",
   "execution_count": 36,
   "metadata": {},
   "outputs": [
    {
     "name": "stdout",
     "output_type": "stream",
     "text": [
      "Successfully updated user 72232 groups\n"
     ]
    }
   ],
   "source": [
    "desired_user_groups = [782548] \n",
    "\n",
    "# Define the URL for assigning groups\n",
    "url = f'https://cloud.getdbt.com/api/v3/accounts/{dbt_cloud_account_id}/assign-groups/'\n",
    "\n",
    "# Create the payload\n",
    "payload = {\n",
    "    \"user_id\": dbt_cloud_user_id,\n",
    "    \"desired_group_ids\": desired_user_groups\n",
    "}\n",
    "\n",
    "# Make the POST request to assign the user to the specified groups\n",
    "response = requests.post(url, headers=api_headers, json=payload)\n",
    "\n",
    "# Check the response status\n",
    "if response.status_code == 200:\n",
    "    print(f'Successfully updated user {dbt_cloud_user_id} groups')\n",
    "else:\n",
    "    print(f'Failed to update user {dbt_cloud_user_id} groups. Status code: {response.status_code}')\n",
    "    print('Response:', response.json())"
   ]
  },
  {
   "cell_type": "markdown",
   "metadata": {},
   "source": [
    "#### Third i'll check the groups that the user is in to confirm they were removed from any groups I do not want them in"
   ]
  },
  {
   "cell_type": "code",
   "execution_count": 37,
   "metadata": {},
   "outputs": [
    {
     "name": "stdout",
     "output_type": "stream",
     "text": [
      "Groups that the user is in within the dbt Cloud Account:\n",
      "ID: 782548, Name: Developers\n"
     ]
    }
   ],
   "source": [
    "# Define the URL to get the groups that the user is in\n",
    "url = f'https://cloud.getdbt.com/api/v2/accounts/{dbt_cloud_account_id}/users/{dbt_cloud_user_id}'\n",
    "\n",
    "# Make the GET request to fetch the groups associated with the user\n",
    "response = requests.get(url, headers=api_headers)\n",
    "\n",
    "# Check the response status\n",
    "if response.status_code == 200:\n",
    "    dbt_cloud_user_info = response.json()\n",
    "else:\n",
    "    print(f'Failed to fetch groups for user {dbt_cloud_user_id}. Status code: {response.status_code}')\n",
    "\n",
    "# Extract the groups from the \"permissions\" section\n",
    "groups = []\n",
    "for permission in dbt_cloud_user_info['data'].get('permissions', []):\n",
    "    if permission.get('account_id') == dbt_cloud_account_id:\n",
    "        groups.extend(permission.get('groups', []))\n",
    "# Print out the group IDs and names\n",
    "if groups:\n",
    "    print(\"Groups that the user is in within the dbt Cloud Account:\")\n",
    "    for group in groups:\n",
    "        print(f\"ID: {group['id']}, Name: {group['name']}\")\n",
    "else:\n",
    "    print(\"No groups found for the user.\")"
   ]
  },
  {
   "cell_type": "markdown",
   "metadata": {},
   "source": [
    "### Example 2: Changing the License type for a particular user (Eg: from Read-only to Developer and vice-versa)"
   ]
  },
  {
   "cell_type": "markdown",
   "metadata": {},
   "source": [
    "#### First i'll put back the user's current license type"
   ]
  },
  {
   "cell_type": "code",
   "execution_count": 41,
   "metadata": {},
   "outputs": [
    {
     "name": "stdout",
     "output_type": "stream",
     "text": [
      "The license type for user 72232 in the account 164789 is: read_only, the id for this license assignment is 341814\n"
     ]
    }
   ],
   "source": [
    "# Define the URL to get the license type that the user has\n",
    "url = f'https://cloud.getdbt.com/api/v2/accounts/{dbt_cloud_account_id}/users/{dbt_cloud_user_id}'\n",
    "\n",
    "# Make the GET request to fetch the groups associated with the user\n",
    "response = requests.get(url, headers=api_headers)\n",
    "\n",
    "# Check the response status\n",
    "if response.status_code == 200:\n",
    "    dbt_cloud_user_info = response.json()\n",
    "else:\n",
    "    print(f'Failed to fetch groups for user {dbt_cloud_user_id}. Status code: {response.status_code}')\n",
    "\n",
    "# Find the license type for the specified account ID\n",
    "license_type = None\n",
    "for permission in dbt_cloud_user_info['data'].get('permissions', []):\n",
    "    if permission.get('account_id') == dbt_cloud_account_id:\n",
    "        license_type = permission.get('license_type')\n",
    "        license_assignment_id = permission.get('id')\n",
    "        break\n",
    "\n",
    "# Output the result\n",
    "if license_type:\n",
    "    print(f\"The license type for user {dbt_cloud_user_id} in the account {dbt_cloud_account_id} is: {license_type}, the id for this license assignment is {license_assignment_id}\")\n",
    "else:\n",
    "    print(f\"No license type for user {dbt_cloud_user_id} found in the account {dbt_cloud_account_id}.\")"
   ]
  },
  {
   "cell_type": "markdown",
   "metadata": {},
   "source": [
    "#### Second i'll update the users license type from developer to read-only\n",
    "- This can be done in reverse order as well (i.e. from read-only to developer)\n",
    "- Note that in order to make this call I need the `license_assignment_id` which is provided from the above API call"
   ]
  },
  {
   "cell_type": "code",
   "execution_count": 43,
   "metadata": {},
   "outputs": [
    {
     "name": "stdout",
     "output_type": "stream",
     "text": [
      "Successfully updated user 72232 to license type developer\n"
     ]
    }
   ],
   "source": [
    "# This can be programmatically pull from the above response but hard coding it to help with writing out the example\n",
    "license_assignment_id = 341814\n",
    "\n",
    "# need to be either 'read-only' or 'developer'\n",
    "desired_license_type = 'developer'\n",
    "\n",
    "url = f'https://cloud.getdbt.com/api/v2/accounts/{dbt_cloud_account_id}/permissions/{license_assignment_id}/'\n",
    "\n",
    "# Create the payload\n",
    "payload = {\n",
    "    \"id\": license_assignment_id,\n",
    "    \"account_id\": dbt_cloud_account_id,\n",
    "    \"user_id\": dbt_cloud_user_id,\n",
    "    \"license_type\": desired_license_type\n",
    "}\n",
    "\n",
    "# Make the PUT request to update the permission\n",
    "response = requests.post(url, headers=api_headers, json=payload)\n",
    "\n",
    "# Check the response status\n",
    "if response.status_code == 200:\n",
    "    print(f'Successfully updated user {dbt_cloud_user_id} to license type {desired_license_type}')\n",
    "else:\n",
    "    print(f'Failed to update user license type. Status code: {response.status_code}')\n",
    "    print('Response:', response.json())"
   ]
  },
  {
   "cell_type": "markdown",
   "metadata": {},
   "source": [
    "#### Third i'll check to make sure the user's license type was successfully updated    "
   ]
  },
  {
   "cell_type": "code",
   "execution_count": 44,
   "metadata": {},
   "outputs": [
    {
     "name": "stdout",
     "output_type": "stream",
     "text": [
      "The license type for user 72232 in the account 164789 is: developer, the id for this license assignment is 341814\n"
     ]
    }
   ],
   "source": [
    "# Define the URL to get the license type that the user has\n",
    "url = f'https://cloud.getdbt.com/api/v2/accounts/{dbt_cloud_account_id}/users/{dbt_cloud_user_id}'\n",
    "\n",
    "# Make the GET request to fetch the groups associated with the user\n",
    "response = requests.get(url, headers=api_headers)\n",
    "\n",
    "# Check the response status\n",
    "if response.status_code == 200:\n",
    "    dbt_cloud_user_info = response.json()\n",
    "else:\n",
    "    print(f'Failed to fetch groups for user {dbt_cloud_user_id}. Status code: {response.status_code}')\n",
    "\n",
    "# Find the license type for the specified account ID\n",
    "license_type = None\n",
    "for permission in dbt_cloud_user_info['data'].get('permissions', []):\n",
    "    if permission.get('account_id') == dbt_cloud_account_id:\n",
    "        license_type = permission.get('license_type')\n",
    "        license_assignment_id = permission.get('id')\n",
    "        break\n",
    "\n",
    "# Output the result\n",
    "if license_type:\n",
    "    print(f\"The license type for user {dbt_cloud_user_id} in the account {dbt_cloud_account_id} is: {license_type}, the id for this license assignment is {license_assignment_id}\")\n",
    "else:\n",
    "    print(f\"No license type for user {dbt_cloud_user_id} found in the account {dbt_cloud_account_id}.\")"
   ]
  },
  {
   "cell_type": "markdown",
   "metadata": {},
   "source": [
    "### Example 3: Removing a user from the dbt Cloud account all together"
   ]
  },
  {
   "cell_type": "markdown",
   "metadata": {},
   "source": [
    "#### First i'll list all users on the account"
   ]
  },
  {
   "cell_type": "code",
   "execution_count": 5,
   "metadata": {},
   "outputs": [
    {
     "name": "stdout",
     "output_type": "stream",
     "text": [
      "[{'email': 'steve.dowling@fishtownanalytics.com',\n",
      "  'id': 94614,\n",
      "  'name': 'Steve Dowling',\n",
      "  'user_permission_id': 218348},\n",
      " {'email': 'steve.dowling@dbtlabs.com',\n",
      "  'id': 143722,\n",
      "  'name': 'steve dowling',\n",
      "  'user_permission_id': 225646}]\n"
     ]
    }
   ],
   "source": [
    "# Define the URL to get the groups that the user is in\n",
    "url = f'https://cloud.getdbt.com/api/v2/accounts/{dbt_cloud_account_id}/users/'\n",
    "\n",
    "# Make the GET request to fetch the groups associated with the user\n",
    "response = requests.get(url, headers=api_headers)\n",
    "\n",
    "# Check the response status\n",
    "if response.status_code == 200:\n",
    "\n",
    "    dbt_cloud_user_info = response.json()['data']\n",
    "\n",
    "    all_users_list = []\n",
    "    \n",
    "    # this is optional but nice to slim down the response \n",
    "    for user in dbt_cloud_user_info:\n",
    "        \n",
    "        user_info = {\n",
    "            \"name\": f\"{user['first_name']} {user['last_name']}\",\n",
    "            \"email\": user[\"email\"],\n",
    "            \"id\": user[\"id\"],\n",
    "            # this is how we remove someone from dbt Cloud\n",
    "            \"user_permission_id\": user[\"permissions\"][0][\"id\"]\n",
    "        }\n",
    "\n",
    "        #  append to the list    \n",
    "        all_users_list.append(user_info)\n",
    "\n",
    "    # log the users, pretty printing this but this is optional\n",
    "    pprint.pprint(all_users_list, compact=True)\n",
    "else:\n",
    "    print(f'Failed to fetch all users for account {dbt_cloud_account_id}. Status code: {response.status_code}')"
   ]
  },
  {
   "cell_type": "markdown",
   "metadata": {},
   "source": [
    "#### Second i'll remove the user i'm looking to remove from the account"
   ]
  },
  {
   "cell_type": "code",
   "execution_count": 6,
   "metadata": {},
   "outputs": [
    {
     "name": "stdout",
     "output_type": "stream",
     "text": [
      "Successfully removed user steve.dowling@dbtlabs.com with permission_id 225646 from dbt Cloud Account 164789\n"
     ]
    }
   ],
   "source": [
    "# grabbed from listing users above\n",
    "user_email = 'steve.dowling@dbtlabs.com'\n",
    "user_id = 143722\n",
    "user_permission_id = 225646\n",
    "\n",
    "# Construct the URL\n",
    "delete_user_api_endpoint = f\"https://cloud.getdbt.com/api/v2/accounts/{dbt_cloud_account_id}/permissions/{user_permission_id}/\"\n",
    "\n",
    "# payload to delete user\n",
    "delete_user_payload = {\n",
    "        \"account_id\": dbt_cloud_account_id,\n",
    "        \"id\": user_permission_id,\n",
    "        \"user_id\": user_id,\n",
    "        \"state\": 2\n",
    "    }\n",
    "\n",
    "\n",
    "# Make the GET request\n",
    "response = requests.post(delete_user_api_endpoint, headers=api_headers, json=delete_user_payload)\n",
    "\n",
    "# Check the response\n",
    "if response.status_code == 200:\n",
    "    print(f\"Successfully removed user {user_email} with permission_id {user_permission_id} from dbt Cloud Account {dbt_cloud_account_id}\")\n",
    "else:\n",
    "    print(f\"Failed to fetch data. Status code: {response.status_code} {response.text}\")"
   ]
  },
  {
   "cell_type": "markdown",
   "metadata": {},
   "source": [
    "#### Third i'll list all users on the account again to confirm user have been removed"
   ]
  },
  {
   "cell_type": "code",
   "execution_count": 7,
   "metadata": {},
   "outputs": [
    {
     "name": "stdout",
     "output_type": "stream",
     "text": [
      "[{'email': 'steve.dowling@fishtownanalytics.com',\n",
      "  'id': 94614,\n",
      "  'name': 'Steve Dowling',\n",
      "  'user_permission_id': 218348}]\n"
     ]
    }
   ],
   "source": [
    "# Define the URL to get the groups that the user is in\n",
    "url = f'https://cloud.getdbt.com/api/v2/accounts/{dbt_cloud_account_id}/users/'\n",
    "\n",
    "# Make the GET request to fetch the groups associated with the user\n",
    "response = requests.get(url, headers=api_headers)\n",
    "\n",
    "# Check the response status\n",
    "if response.status_code == 200:\n",
    "\n",
    "    dbt_cloud_user_info = response.json()['data']\n",
    "\n",
    "    all_users_list = []\n",
    "    \n",
    "    # this is optional but nice to slim down the response \n",
    "    for user in dbt_cloud_user_info:\n",
    "        \n",
    "        user_info = {\n",
    "            \"name\": f\"{user['first_name']} {user['last_name']}\",\n",
    "            \"email\": user[\"email\"],\n",
    "            \"id\": user[\"id\"],\n",
    "            # this is how we remove someone from dbt Cloud\n",
    "            \"user_permission_id\": user[\"permissions\"][0][\"id\"]\n",
    "        }\n",
    "\n",
    "        #  append to the list    \n",
    "        all_users_list.append(user_info)\n",
    "\n",
    "    # log the users, pretty printing this but this is optional\n",
    "    pprint.pprint(all_users_list, compact=True)\n",
    "else:\n",
    "    print(f'Failed to fetch all users for account {dbt_cloud_account_id}. Status code: {response.status_code}')"
   ]
  },
  {
   "cell_type": "markdown",
   "metadata": {},
   "source": [
    "___\n",
    "END OF SCRIPT\n",
    "___"
   ]
  }
 ],
 "metadata": {
  "kernelspec": {
   "display_name": "Python 3",
   "language": "python",
   "name": "python3"
  },
  "language_info": {
   "codemirror_mode": {
    "name": "ipython",
    "version": 3
   },
   "file_extension": ".py",
   "mimetype": "text/x-python",
   "name": "python",
   "nbconvert_exporter": "python",
   "pygments_lexer": "ipython3",
   "version": "3.12.4"
  }
 },
 "nbformat": 4,
 "nbformat_minor": 2
}
