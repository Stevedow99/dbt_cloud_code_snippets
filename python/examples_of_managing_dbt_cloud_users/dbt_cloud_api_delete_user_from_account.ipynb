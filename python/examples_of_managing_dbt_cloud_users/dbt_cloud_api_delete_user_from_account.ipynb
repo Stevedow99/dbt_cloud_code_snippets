{
 "cells": [
  {
   "cell_type": "markdown",
   "metadata": {},
   "source": [
    "## dbt Cloud API Example for Updating Users\n",
    "- As a note, I would recommend doing these command vis the [dbt Cloud Terraform Provider](https://registry.terraform.io/providers/dbt-labs/dbtcloud/latest) instead of scripting with the APIs but provided scripting examples below"
   ]
  },
  {
   "cell_type": "code",
   "execution_count": 2,
   "metadata": {},
   "outputs": [],
   "source": [
    "import requests\n",
    "from datetime import datetime\n",
    "import json\n",
    "import pprint"
   ]
  },
  {
   "cell_type": "code",
   "execution_count": null,
   "metadata": {},
   "outputs": [],
   "source": [
    "dbt_cloud_api_token = \"dbtc_1234587237823782378237823\" # Update to your token\n",
    "dbt_cloud_account_id = 123456 # Update to account id\n",
    "# Set up the headers for authentication\n",
    "api_headers = {\n",
    "    'Authorization': f'Token {dbt_cloud_api_token}',\n",
    "    'Content-Type': 'application/json'\n",
    "}"
   ]
  },
  {
   "cell_type": "markdown",
   "metadata": {},
   "source": [
    "___"
   ]
  },
  {
   "cell_type": "markdown",
   "metadata": {},
   "source": [
    "### Example 3: Removing a user from the dbt Cloud account all together"
   ]
  },
  {
   "cell_type": "markdown",
   "metadata": {},
   "source": [
    "#### First i'll list all users on the account"
   ]
  },
  {
   "cell_type": "code",
   "execution_count": 5,
   "metadata": {},
   "outputs": [
    {
     "name": "stdout",
     "output_type": "stream",
     "text": [
      "[{'email': 'steve.dowling@fishtownanalytics.com',\n",
      "  'id': 94614,\n",
      "  'name': 'Steve Dowling',\n",
      "  'user_permission_id': 218348},\n",
      " {'email': 'steve.dowling@dbtlabs.com',\n",
      "  'id': 143722,\n",
      "  'name': 'steve dowling',\n",
      "  'user_permission_id': 225646}]\n"
     ]
    }
   ],
   "source": [
    "# Define the URL to get the groups that the user is in\n",
    "url = f'https://cloud.getdbt.com/api/v2/accounts/{dbt_cloud_account_id}/users/'\n",
    "\n",
    "# Make the GET request to fetch the groups associated with the user\n",
    "response = requests.get(url, headers=api_headers)\n",
    "\n",
    "# Check the response status\n",
    "if response.status_code == 200:\n",
    "\n",
    "    dbt_cloud_user_info = response.json()['data']\n",
    "\n",
    "    all_users_list = []\n",
    "    \n",
    "    # this is optional but nice to slim down the response \n",
    "    for user in dbt_cloud_user_info:\n",
    "        \n",
    "        user_info = {\n",
    "            \"name\": f\"{user['first_name']} {user['last_name']}\",\n",
    "            \"email\": user[\"email\"],\n",
    "            \"id\": user[\"id\"],\n",
    "            # this is how we remove someone from dbt Cloud\n",
    "            \"user_permission_id\": user[\"permissions\"][0][\"id\"]\n",
    "        }\n",
    "\n",
    "        #  append to the list    \n",
    "        all_users_list.append(user_info)\n",
    "\n",
    "    # log the users, pretty printing this but this is optional\n",
    "    pprint.pprint(all_users_list, compact=True)\n",
    "else:\n",
    "    print(f'Failed to fetch all users for account {dbt_cloud_account_id}. Status code: {response.status_code}')"
   ]
  },
  {
   "cell_type": "markdown",
   "metadata": {},
   "source": [
    "#### Second i'll remove the user i'm looking to remove from the account"
   ]
  },
  {
   "cell_type": "code",
   "execution_count": 6,
   "metadata": {},
   "outputs": [
    {
     "name": "stdout",
     "output_type": "stream",
     "text": [
      "Successfully removed user steve.dowling@dbtlabs.com with permission_id 225646 from dbt Cloud Account 164789\n"
     ]
    }
   ],
   "source": [
    "# grabbed from listing users above\n",
    "user_email = 'steve.dowling@dbtlabs.com'\n",
    "user_id = 143722\n",
    "user_permission_id = 225646\n",
    "\n",
    "# Construct the URL\n",
    "delete_user_api_endpoint = f\"https://cloud.getdbt.com/api/v2/accounts/{dbt_cloud_account_id}/permissions/{user_permission_id}/\"\n",
    "\n",
    "# payload to delete user\n",
    "delete_user_payload = {\n",
    "        \"account_id\": dbt_cloud_account_id,\n",
    "        \"id\": user_permission_id,\n",
    "        \"user_id\": user_id,\n",
    "        \"state\": 2\n",
    "    }\n",
    "\n",
    "\n",
    "# Make the GET request\n",
    "response = requests.post(delete_user_api_endpoint, headers=api_headers, json=delete_user_payload)\n",
    "\n",
    "# Check the response\n",
    "if response.status_code == 200:\n",
    "    print(f\"Successfully removed user {user_email} with permission_id {user_permission_id} from dbt Cloud Account {dbt_cloud_account_id}\")\n",
    "else:\n",
    "    print(f\"Failed to fetch data. Status code: {response.status_code} {response.text}\")"
   ]
  },
  {
   "cell_type": "markdown",
   "metadata": {},
   "source": [
    "#### Third i'll list all users on the account again to confirm user have been removed"
   ]
  },
  {
   "cell_type": "code",
   "execution_count": 7,
   "metadata": {},
   "outputs": [
    {
     "name": "stdout",
     "output_type": "stream",
     "text": [
      "[{'email': 'steve.dowling@fishtownanalytics.com',\n",
      "  'id': 94614,\n",
      "  'name': 'Steve Dowling',\n",
      "  'user_permission_id': 218348}]\n"
     ]
    }
   ],
   "source": [
    "# Define the URL to get the groups that the user is in\n",
    "url = f'https://cloud.getdbt.com/api/v2/accounts/{dbt_cloud_account_id}/users/'\n",
    "\n",
    "# Make the GET request to fetch the groups associated with the user\n",
    "response = requests.get(url, headers=api_headers)\n",
    "\n",
    "# Check the response status\n",
    "if response.status_code == 200:\n",
    "\n",
    "    dbt_cloud_user_info = response.json()['data']\n",
    "\n",
    "    all_users_list = []\n",
    "    \n",
    "    # this is optional but nice to slim down the response \n",
    "    for user in dbt_cloud_user_info:\n",
    "        \n",
    "        user_info = {\n",
    "            \"name\": f\"{user['first_name']} {user['last_name']}\",\n",
    "            \"email\": user[\"email\"],\n",
    "            \"id\": user[\"id\"],\n",
    "            # this is how we remove someone from dbt Cloud\n",
    "            \"user_permission_id\": user[\"permissions\"][0][\"id\"]\n",
    "        }\n",
    "\n",
    "        #  append to the list    \n",
    "        all_users_list.append(user_info)\n",
    "\n",
    "    # log the users, pretty printing this but this is optional\n",
    "    pprint.pprint(all_users_list, compact=True)\n",
    "else:\n",
    "    print(f'Failed to fetch all users for account {dbt_cloud_account_id}. Status code: {response.status_code}')"
   ]
  },
  {
   "cell_type": "markdown",
   "metadata": {},
   "source": [
    "___\n",
    "END OF SCRIPT\n",
    "___"
   ]
  }
 ],
 "metadata": {
  "kernelspec": {
   "display_name": "Python 3",
   "language": "python",
   "name": "python3"
  },
  "language_info": {
   "codemirror_mode": {
    "name": "ipython",
    "version": 3
   },
   "file_extension": ".py",
   "mimetype": "text/x-python",
   "name": "python",
   "nbconvert_exporter": "python",
   "pygments_lexer": "ipython3",
   "version": "3.12.4"
  }
 },
 "nbformat": 4,
 "nbformat_minor": 2
}
