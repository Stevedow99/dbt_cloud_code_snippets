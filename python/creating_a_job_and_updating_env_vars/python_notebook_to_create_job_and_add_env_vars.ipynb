{
 "cells": [
  {
   "cell_type": "markdown",
   "id": "68feb64b",
   "metadata": {},
   "source": [
    "### Import Dependencies "
   ]
  },
  {
   "cell_type": "code",
   "execution_count": 15,
   "id": "2a8e4aab",
   "metadata": {},
   "outputs": [],
   "source": [
    "import requests\n",
    "import json"
   ]
  },
  {
   "cell_type": "markdown",
   "id": "7d637fdb",
   "metadata": {},
   "source": [
    "### Define account configs and Token\n",
    "\n",
    "- Note for the account configs you can programmatically grab them using an API call if needed"
   ]
  },
  {
   "cell_type": "code",
   "execution_count": 30,
   "id": "c36f3be8",
   "metadata": {},
   "outputs": [],
   "source": [
    "# pull in my dbt Cloud Service token\n",
    "dbt_st = <<ST>>\n",
    "\n",
    "# define my dbt Cloud account ID\n",
    "dbt_cloud_account_id = 123456\n",
    "\n",
    "# define my dbt Cloud project ID\n",
    "# cloud use API call to grab if more tha one project\n",
    "# to get this manually click on the enviroment in the UI and grab it from the URL https://cloud.getdbt.com/deploy/123456/projects/<<<<THIS>>>\n",
    "dbt_cloud_project_id = 345678\n",
    "\n",
    "# define my dbt Cloud enviorment ID\n",
    "# cloud use API call to grab if more tha one enviorment\n",
    "# to get this manually click on the enviroment in the UI and grab it from the URL https://cloud.getdbt.com/deploy/123456/projects/345678/environments/<<<<THIS>>>\n",
    "dbt_cloud_env_id = 912345\n"
   ]
  },
  {
   "cell_type": "markdown",
   "id": "29ce12b1",
   "metadata": {},
   "source": [
    "### Build out payload"
   ]
  },
  {
   "cell_type": "code",
   "execution_count": 53,
   "id": "5d6136a3",
   "metadata": {},
   "outputs": [],
   "source": [
    "# defining the github payload to create a job\n",
    "\n",
    "# define the name of the job we are creating\n",
    "# this would likely be done programmatically \n",
    "dbt_job_name = \"Run Project 44\"\n",
    "\n",
    "\n",
    "# setting this job up to not be trigger because i'll likely kick it off via the API\n",
    "create_job_payload = {\n",
    "    \"account_id\": dbt_cloud_account_id,\n",
    "    \"project_id\": dbt_cloud_project_id,\n",
    "    \"id\": None,\n",
    "    \"environment_id\": dbt_cloud_env_id,\n",
    "    \"name\": dbt_job_name,\n",
    "    \"dbt_version\": \"1.0.1\",\n",
    "    \"triggers\": {\n",
    "      \"github_webhook\": False,\n",
    "      \"schedule\": False,\n",
    "      \"custom_branch_only\": False\n",
    "    },\n",
    "    \"execute_steps\": [\n",
    "      \"dbt run\"\n",
    "    ],\n",
    "    \"settings\": {\n",
    "      \"threads\": 1,\n",
    "      \"target_name\": \"default\"\n",
    "    },\n",
    "    \"state\": 1,\n",
    "    \"generate_docs\": False,\n",
    "    \"schedule\": {\n",
    "        \"date\": {\n",
    "            \"type\": \"every_day\"\n",
    "        },\n",
    "        \"time\": {\n",
    "            \"type\": \"every_hour\",\n",
    "            \"interval\": 1\n",
    "        }\n",
    "    }\n",
    "}"
   ]
  },
  {
   "cell_type": "markdown",
   "id": "8493137e",
   "metadata": {},
   "source": [
    "### Create the job"
   ]
  },
  {
   "cell_type": "code",
   "execution_count": 64,
   "id": "dbc13ba4",
   "metadata": {},
   "outputs": [
    {
     "name": "stdout",
     "output_type": "stream",
     "text": [
      "True\n"
     ]
    }
   ],
   "source": [
    "# create the URL\n",
    "create_job_url = f\"https://cloud.getdbt.com/api/v2/accounts/{dbt_cloud_account_id}/jobs/\"\n",
    "\n",
    "# define auth head\n",
    "headers = {'Authorization': f\"Token {dbt_st}\"}\n",
    "\n",
    "# post payload to create job in account\n",
    "response = requests.request(\"POST\", create_job_url, headers=headers, json=create_job_payload)\n",
    "\n",
    "# log the status\n",
    "print(response.json()['status']['is_success'])"
   ]
  },
  {
   "cell_type": "markdown",
   "id": "a8862355",
   "metadata": {},
   "source": [
    "### Add env var override to job"
   ]
  },
  {
   "cell_type": "code",
   "execution_count": 65,
   "id": "bdb8eb36",
   "metadata": {},
   "outputs": [
    {
     "name": "stdout",
     "output_type": "stream",
     "text": [
      "True\n"
     ]
    }
   ],
   "source": [
    "# get the job id for the job that was created\n",
    "job_id = response.json()['data']['id']\n",
    "\n",
    "# create the URL\n",
    "env_var_post_url = f\"https://cloud.getdbt.com/api/v3/accounts/{dbt_cloud_account_id}/projects/{dbt_cloud_project_id}/environment-variables/\"\n",
    "\n",
    "# the subdir value - which is the sub directory path of the dbt project I just created in my repo\n",
    "# normally you would grab this from elsewhere but i'll enter mnaully for the example \n",
    "env_var_override_value = 'dbt_project_forty_four'\n",
    "\n",
    "# defining the env var name \n",
    "env_var_name = \"DBT_SUB_DIRECTORY_PATH\"\n",
    "\n",
    "# define body payload\n",
    "env_var_overirde_payload = {\n",
    "    \"id\": None,\n",
    "    \"account_id\": dbt_cloud_account_id,\n",
    "    \"project_id\": dbt_cloud_project_id,\n",
    "    \"job_definition_id\": job_id,\n",
    "    \"type\": \"job\",\n",
    "    \"name\": env_var_name,\n",
    "    \"raw_value\": env_var_override_value\n",
    "}\n",
    "\n",
    "\n",
    "# post payload to update env var\n",
    "response = requests.request(\"POST\", env_var_post_url, headers=headers, json=env_var_overirde_payload)\n",
    "\n",
    "# log the status\n",
    "print(response.json()['status']['is_success'])"
   ]
  },
  {
   "cell_type": "markdown",
   "id": "dc040912",
   "metadata": {},
   "source": [
    "### [Optional] Trigger the job "
   ]
  },
  {
   "cell_type": "code",
   "execution_count": 66,
   "id": "28f9409d",
   "metadata": {},
   "outputs": [
    {
     "name": "stdout",
     "output_type": "stream",
     "text": [
      "True\n"
     ]
    }
   ],
   "source": [
    "\n",
    "# create the URL\n",
    "trigger_job_url = f\"https://cloud.getdbt.com/api/v2/accounts/{dbt_cloud_account_id}/jobs/{job_id}/run/\"\n",
    "\n",
    "# define payload\n",
    "trigger_job_payload = {\n",
    "  \"cause\": \"Kicked off first run of this job\"\n",
    "}\n",
    "\n",
    "# trigger job\n",
    "# post payload to update env var\n",
    "response = requests.request(\"POST\", trigger_job_url, headers=headers, json=trigger_job_payload)\n",
    "\n",
    "# log the status of triggering the job\n",
    "print(response.json()['status']['is_success'])"
   ]
  },
  {
   "cell_type": "markdown",
   "id": "81ca6f9e",
   "metadata": {},
   "source": [
    "### END OF SCRIPT"
   ]
  }
 ],
 "metadata": {
  "kernelspec": {
   "display_name": "Python 3 (ipykernel)",
   "language": "python",
   "name": "python3"
  },
  "language_info": {
   "codemirror_mode": {
    "name": "ipython",
    "version": 3
   },
   "file_extension": ".py",
   "mimetype": "text/x-python",
   "name": "python",
   "nbconvert_exporter": "python",
   "pygments_lexer": "ipython3",
   "version": "3.9.13"
  }
 },
 "nbformat": 4,
 "nbformat_minor": 5
}
