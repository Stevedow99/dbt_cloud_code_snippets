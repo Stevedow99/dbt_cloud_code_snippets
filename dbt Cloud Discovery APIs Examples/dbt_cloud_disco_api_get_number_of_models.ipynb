{
 "cells": [
  {
   "cell_type": "markdown",
   "metadata": {},
   "source": [
    "## Import Dependencies"
   ]
  },
  {
   "cell_type": "code",
   "execution_count": 1,
   "metadata": {},
   "outputs": [],
   "source": [
    "import requests\n",
    "import math\n",
    "import pprint"
   ]
  },
  {
   "cell_type": "markdown",
   "metadata": {},
   "source": [
    "## Create functions to get and process data from dbt Cloud"
   ]
  },
  {
   "cell_type": "code",
   "execution_count": 4,
   "metadata": {},
   "outputs": [],
   "source": [
    "def get_number_of_dbt_models_in_project(dbt_cloud_token, dbt_cloud_project_env_id):\n",
    "    \n",
    "\n",
    "    # Your GraphQL endpoint\n",
    "    url = 'https://metadata.cloud.getdbt.com/graphql'\n",
    "    \n",
    "    # The GraphQL query\n",
    "    query = \"\"\"\n",
    "            query AppliedModels($first: Int!, $after: String, $environmentId: BigInt!, $filter: ModelAppliedFilter, $sort: AppliedModelSort) {\n",
    "              environment(id: $environmentId) {\n",
    "                applied {\n",
    "                  lastUpdatedAt\n",
    "                  models(first: $first, after: $after, filter: $filter, sort: $sort) {\n",
    "                    totalCount\n",
    "                  }\n",
    "                }\n",
    "              }\n",
    "            }\n",
    "    \"\"\"\n",
    "\n",
    "    # The variables to be used in your query\n",
    "    variables = {\n",
    "        \"environmentId\": dbt_cloud_project_env_id,\n",
    "        \"first\": 500,\n",
    "        \"after\": None\n",
    "    }\n",
    "        \n",
    "    # Headers, including possibly needed authorization\n",
    "    headers = {\n",
    "        'Content-Type': 'application/json',\n",
    "        'Authorization': f'Bearer {dbt_cloud_token}',  # Only include this line if you need authorization\n",
    "    }\n",
    "    \n",
    "    # The payload for the request\n",
    "    payload = {\n",
    "        'query': query,\n",
    "        'variables': variables\n",
    "    }\n",
    "    \n",
    "    # Make the POST request to the GraphQL API\n",
    "    response = requests.post(url, json=payload, headers=headers)\n",
    "    \n",
    "    # Check for errors\n",
    "    if response.status_code == 200:\n",
    "        \n",
    "        # Parse the response JSON\n",
    "        data = response.json()\n",
    "\n",
    "\n",
    "        # get number of models\n",
    "        number_of_models_in_cloud_project = data['data']['environment']['applied']['models']['totalCount']\n",
    "\n",
    "    else:\n",
    "        print(f\"Query failed to run by returning code of {response.status_code}. {response.text}\")\n",
    "    \n",
    "    try:\n",
    "        # return number of models in project\n",
    "        return number_of_models_in_cloud_project\n",
    "    except:\n",
    "        print(\"there was an error getting back GraphQL Payload, please check your inputs\")"
   ]
  },
  {
   "cell_type": "markdown",
   "metadata": {},
   "source": [
    "# Using the functions"
   ]
  },
  {
   "cell_type": "code",
   "execution_count": null,
   "metadata": {},
   "outputs": [],
   "source": [
    "# get the dbt cloud service token or personal token\n",
    "dbt_cloud_token = '<< dbt cloud token goes here >>'\n",
    "\n",
    "# the production in environment id for the dbt Cloud project \n",
    "dbt_cloud_project_env_id = 123456"
   ]
  },
  {
   "cell_type": "code",
   "execution_count": 5,
   "metadata": {},
   "outputs": [
    {
     "data": {
      "text/plain": [
       "40"
      ]
     },
     "execution_count": 5,
     "metadata": {},
     "output_type": "execute_result"
    }
   ],
   "source": [
    "get_number_of_dbt_models_in_project(dbt_cloud_token, dbt_cloud_project_env_id)"
   ]
  },
  {
   "cell_type": "markdown",
   "metadata": {},
   "source": [
    "___\n",
    "\n",
    "# END OF SCRIPT\n",
    "\n",
    "___"
   ]
  }
 ],
 "metadata": {
  "kernelspec": {
   "display_name": "Python 3",
   "language": "python",
   "name": "python3"
  },
  "language_info": {
   "codemirror_mode": {
    "name": "ipython",
    "version": 3
   },
   "file_extension": ".py",
   "mimetype": "text/x-python",
   "name": "python",
   "nbconvert_exporter": "python",
   "pygments_lexer": "ipython3",
   "version": "3.11.6"
  }
 },
 "nbformat": 4,
 "nbformat_minor": 2
}
